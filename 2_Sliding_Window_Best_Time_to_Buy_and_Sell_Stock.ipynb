{
  "nbformat": 4,
  "nbformat_minor": 0,
  "metadata": {
    "colab": {
      "provenance": [],
      "authorship_tag": "ABX9TyPFFD8FUx0+mxR/JdNXPWEE",
      "include_colab_link": true
    },
    "kernelspec": {
      "name": "python3",
      "display_name": "Python 3"
    },
    "language_info": {
      "name": "python"
    }
  },
  "cells": [
    {
      "cell_type": "markdown",
      "metadata": {
        "id": "view-in-github",
        "colab_type": "text"
      },
      "source": [
        "<a href=\"https://colab.research.google.com/github/dipankarsahu1000/Blind75/blob/main/2_Sliding_Window_Best_Time_to_Buy_and_Sell_Stock.ipynb\" target=\"_parent\"><img src=\"https://colab.research.google.com/assets/colab-badge.svg\" alt=\"Open In Colab\"/></a>"
      ]
    },
    {
      "cell_type": "code",
      "source": [
        "'''\n",
        "\n",
        "You are given an array prices where prices[i] is the price of a given stock on the ith day.\n",
        "\n",
        "You want to maximize your profit by choosing a single day to buy one stock and choosing a different day in the future to sell that stock.\n",
        "\n",
        "Return the maximum profit you can achieve from this transaction. If you cannot achieve any profit, return 0.\n",
        "\n",
        "'''\n",
        "\n",
        "def maxprofit(price_list):\n",
        "  left = 0   # Denotes the buying price.\n",
        "  right = 1   # Denotes the selling price.\n",
        "  max_profit = 0\n",
        "\n",
        "  while right < len(price_list):   # Keep iterating till all the prices in the input price_list are considered as the seeling price.\n",
        "    if price_list[left] < price_list[right]:   # If the buying price is less than the selling price, then then it implies that there is profit.\n",
        "      profit = price_list[right] - price_list[left]\n",
        "      max_profit = max(profit, max_profit)   # Compare the current profit with the previous maximum profit recorded. Consider whichever is higher.\n",
        "    else:\n",
        "      left = right   # Otherwise, if the buying price is more than the selling price, then just update the current buying price with that selling price and continue.\n",
        "    right += 1\n",
        "\n",
        "  return max_profit\n"
      ],
      "metadata": {
        "id": "aiX8Tvm6QFYb"
      },
      "execution_count": 9,
      "outputs": []
    },
    {
      "cell_type": "code",
      "source": [
        "maxprofit([7,2,1,3,6,10])"
      ],
      "metadata": {
        "colab": {
          "base_uri": "https://localhost:8080/"
        },
        "id": "HDVdl2PDVx0Y",
        "outputId": "174ede0f-20bb-48f7-9329-40f91a1bb375"
      },
      "execution_count": 11,
      "outputs": [
        {
          "output_type": "execute_result",
          "data": {
            "text/plain": [
              "9"
            ]
          },
          "metadata": {},
          "execution_count": 11
        }
      ]
    }
  ]
}