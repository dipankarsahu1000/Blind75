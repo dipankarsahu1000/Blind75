{
  "nbformat": 4,
  "nbformat_minor": 0,
  "metadata": {
    "colab": {
      "provenance": [],
      "authorship_tag": "ABX9TyOB1Y6Qmlhng3KMh9QVEJfa",
      "include_colab_link": true
    },
    "kernelspec": {
      "name": "python3",
      "display_name": "Python 3"
    },
    "language_info": {
      "name": "python"
    }
  },
  "cells": [
    {
      "cell_type": "markdown",
      "metadata": {
        "id": "view-in-github",
        "colab_type": "text"
      },
      "source": [
        "<a href=\"https://colab.research.google.com/github/dipankarsahu1000/Blind75/blob/main/Copy_of_2_Sliding_Window_Best_Time_to_Buy_and_Sell_Stock.ipynb\" target=\"_parent\"><img src=\"https://colab.research.google.com/assets/colab-badge.svg\" alt=\"Open In Colab\"/></a>"
      ]
    },
    {
      "cell_type": "code",
      "source": [
        "'''\n",
        "\n",
        "You are given an array prices where prices[i] is the price of a given stock on the ith day.\n",
        "\n",
        "You want to maximize your profit by choosing a single day to buy one stock and choosing a different day in the future to sell that stock.\n",
        "\n",
        "Return the maximum profit you can achieve from this transaction. If you cannot achieve any profit, return 0.\n",
        "\n",
        "'''\n",
        "\n",
        "def maxprofit(prices):\n",
        "  left = 0   # Denotes the buying price.\n",
        "  right = 1   # Denotes the selling price.\n",
        "  max_profit = 0\n",
        "\n",
        "  while right < len(prices):   # Keep iterating till all the prices in the input prices are considered as the selling price.\n",
        "    if prices[left] < prices[right]:   # If the buying price is less than the selling price, then it implies that there is profit.\n",
        "      profit = prices[right] - prices[left]\n",
        "      max_profit = max(profit, max_profit)   # Compare the current profit with the previous maximum profit recorded. Consider whichever is higher.\n",
        "    else:\n",
        "      left = right   # Otherwise, if the buying price is more than the selling price, then just update the current buying price with that selling price and continue.\n",
        "    right += 1\n",
        "\n",
        "  return max_profit\n"
      ],
      "metadata": {
        "id": "aiX8Tvm6QFYb"
      },
      "execution_count": null,
      "outputs": []
    }
  ]
}