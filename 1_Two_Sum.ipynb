{
  "nbformat": 4,
  "nbformat_minor": 0,
  "metadata": {
    "colab": {
      "provenance": [],
      "authorship_tag": "ABX9TyNJSmOIWIyZYwe6d+dUaX/4",
      "include_colab_link": true
    },
    "kernelspec": {
      "name": "python3",
      "display_name": "Python 3"
    },
    "language_info": {
      "name": "python"
    }
  },
  "cells": [
    {
      "cell_type": "markdown",
      "metadata": {
        "id": "view-in-github",
        "colab_type": "text"
      },
      "source": [
        "<a href=\"https://colab.research.google.com/github/dipankarsahu1000/Blind75/blob/main/1_Two_Sum.ipynb\" target=\"_parent\"><img src=\"https://colab.research.google.com/assets/colab-badge.svg\" alt=\"Open In Colab\"/></a>"
      ]
    },
    {
      "cell_type": "code",
      "execution_count": null,
      "metadata": {
        "id": "hFqgPuc1Z-L7"
      },
      "outputs": [],
      "source": [
        "'''\n",
        "\n",
        "Given an array of integers nums and an integer target, return indices of the two numbers such that they add up to target.\n",
        "\n",
        "You may assume that each input would have exactly one solution, and you may not use the same element twice.\n",
        "\n",
        "You can return the answer in any order.\n",
        "\n",
        "'''\n",
        "\n",
        "\n",
        "def twosum(input_arr, target):\n",
        "  '''\n",
        "  An array of numbers and a target number is taken as the input.\n",
        "  The function will return the indices of the two numbers in the array which add up to the target.\n",
        "  '''\n",
        "\n",
        "  prevmap = {}    # The dictionary storing the values and the indices of the numbers in the input array as value:index.\n",
        "\n",
        "  for index, num in enumerate(input_arr):   # The loop to access all the indices and the values in each iteration.\n",
        "    diff = target - num   # The difference between the target value and the current value being iterated.\n",
        "    if diff in prevmap:   # Checking if the difference is present as a dictionary key in prevmap.\n",
        "      return [prevmap[diff], index]   # If yes, the index of the current number being iterated and the index of the difference value is the pair we need.\n",
        "    prevmap[num] = index   # If the current number being iterated is not present in the prevmap, then the update the prevmap dictionary.\n",
        "\n",
        "  return \"No two numbers summing upto the given target were found.\""
      ]
    },
    {
      "cell_type": "code",
      "source": [],
      "metadata": {
        "id": "rHUwcXAXif15"
      },
      "execution_count": null,
      "outputs": []
    }
  ]
}