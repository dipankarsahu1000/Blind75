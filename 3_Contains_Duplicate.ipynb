{
  "nbformat": 4,
  "nbformat_minor": 0,
  "metadata": {
    "colab": {
      "provenance": [],
      "authorship_tag": "ABX9TyMtAzGlrrcDEBL9WpBbk8uv",
      "include_colab_link": true
    },
    "kernelspec": {
      "name": "python3",
      "display_name": "Python 3"
    },
    "language_info": {
      "name": "python"
    }
  },
  "cells": [
    {
      "cell_type": "markdown",
      "metadata": {
        "id": "view-in-github",
        "colab_type": "text"
      },
      "source": [
        "<a href=\"https://colab.research.google.com/github/dipankarsahu1000/Blind75/blob/main/3_Contains_Duplicate.ipynb\" target=\"_parent\"><img src=\"https://colab.research.google.com/assets/colab-badge.svg\" alt=\"Open In Colab\"/></a>"
      ]
    },
    {
      "cell_type": "code",
      "source": [
        "'''\n",
        "\n",
        "Given an integer array nums, return true if any value appears at least twice in the array, and return false if every element is distinct.\n",
        "\n",
        "'''\n",
        "\n",
        "\n",
        "def containsduplicate(nums):\n",
        "\n",
        "  prevset = set()   # Creating an empty set to store the numbers in the input array.\n",
        "\n",
        "  for num in nums:   # Iterating through all the numbers in the input array.\n",
        "    if num in prevset:   # If the current number is already in the prevset, then simply return True.\n",
        "      return True\n",
        "    else:\n",
        "      prevset.add(num)   # If the number is not in the prevset, then add the current number to it so that some future number can be compared to it.\n",
        "\n",
        "  return False   # Even after iterating across all the numbers in the input and still not getting any duplicates, then return False.\n"
      ],
      "metadata": {
        "id": "IGd8WVhhfBja"
      },
      "execution_count": 3,
      "outputs": []
    },
    {
      "cell_type": "code",
      "source": [],
      "metadata": {
        "id": "nai_RC6ZiHpm"
      },
      "execution_count": null,
      "outputs": []
    }
  ]
}